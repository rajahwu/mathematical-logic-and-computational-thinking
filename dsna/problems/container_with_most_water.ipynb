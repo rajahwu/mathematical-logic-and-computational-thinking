{
 "cells": [
  {
   "cell_type": "markdown",
   "metadata": {},
   "source": [
    "# Container With Most Water\n",
    "\n",
    "You are given an integer array height of length n. There are n vertical lines drawn such that the two endpoints of the ith line are (i, 0) and (i, height[i]).\n",
    "\n",
    "Find two lines that together with the x-axis form a container, such that the container contains the most water.\n",
    "\n",
    "Return the maximum amount of water a container can store.\n",
    "\n",
    "Notice that you may not slant the container."
   ]
  },
  {
   "cell_type": "code",
   "execution_count": null,
   "metadata": {},
   "outputs": [],
   "source": [
    "# Bruteforce O(n^2) solution\n",
    "\n",
    "def max_area(height):\n",
    "    n = len(height)\n",
    "    max_area = 0\n",
    "\n",
    "    for i in range(n):\n",
    "        for j in range(i + 1, n):\n",
    "            h = min(height[i], height[j])\n",
    "            w = j - i\n",
    "            max_area = max(max_area, h * w)\n",
    "\n",
    "    return max_area\n"
   ]
  },
  {
   "cell_type": "code",
   "execution_count": null,
   "metadata": {},
   "outputs": [],
   "source": [
    "# Two-pointer O(n) solution\n",
    "\n",
    "def max_area(height):\n",
    "    n = len(height)\n",
    "    max_area = 0\n",
    "\n",
    "    for i in range(n):\n",
    "        for j in range(i + 1, n):\n",
    "            h = min(height[i], height[j])\n",
    "            w = j - i\n",
    "            max_area = max(max_area, h * w)\n",
    "\n",
    "    return max_area\n",
    "\n"
   ]
  },
  {
   "cell_type": "code",
   "execution_count": 1,
   "metadata": {},
   "outputs": [
    {
     "data": {
      "image/png": "[encoded data removed]",
      "text/plain": [
       "<Figure size 640x480 with 1 Axes>"
      ]
     },
     "metadata": {},
     "output_type": "display_data"
    }
   ],
   "source": [
    "import matplotlib.pyplot as plt\n",
    "\n",
    "# Two Pointer\n",
    "\n",
    "def max_area(height):\n",
    "    left, right = 0, len(height) - 1\n",
    "    max_area = 0\n",
    "\n",
    "    while left < right:\n",
    "        h = min(height[left], height[right])\n",
    "        w = right - left\n",
    "        max_area = max(max_area, h * w)\n",
    "\n",
    "        if height[left] < height[right]:\n",
    "            left += 1\n",
    "        else:\n",
    "            right -= 1\n",
    "\n",
    "    return max_area\n",
    "\n",
    "def plot_container(height):\n",
    "    max_area_value = max_area(height)\n",
    "    \n",
    "    left, right = 0, len(height) - 1\n",
    "    x_values, y_values = [], []\n",
    "\n",
    "    while left < right:\n",
    "        h = min(height[left], height[right])\n",
    "        w = right - left\n",
    "        area = h * w\n",
    "\n",
    "        if area == max_area_value:\n",
    "            x_values.extend([left, right, right, left, left])\n",
    "            y_values.extend([0, 0, h, h, 0])\n",
    "\n",
    "        if height[left] < height[right]:\n",
    "            left += 1\n",
    "        else:\n",
    "            right -= 1\n",
    "\n",
    "    plt.plot(x_values, y_values, label=f'Max Area: {max_area_value}')\n",
    "    plt.bar(range(len(height)), height, alpha=0.3, label='Line Heights')\n",
    "    plt.legend()\n",
    "    plt.xlabel('Index')\n",
    "    plt.ylabel('Height')\n",
    "    plt.title('Container with Max Water')\n",
    "    plt.show()\n",
    "\n",
    "# Example\n",
    "height = [1, 8, 6, 2, 5, 4, 8, 3, 7]\n",
    "plot_container(height)\n"
   ]
  }
 ],
 "metadata": {
  "kernelspec": {
   "display_name": "Python 3",
   "language": "python",
   "name": "python3"
  },
  "language_info": {
   "codemirror_mode": {
    "name": "ipython",
    "version": 3
   },
   "file_extension": ".py",
   "mimetype": "text/x-python",
   "name": "python",
   "nbconvert_exporter": "python",
   "pygments_lexer": "ipython3",
   "version": "3.9.18"
  }
 },
 "nbformat": 4,
 "nbformat_minor": 2
}
